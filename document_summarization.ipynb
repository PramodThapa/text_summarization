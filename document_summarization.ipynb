{
  "nbformat": 4,
  "nbformat_minor": 0,
  "metadata": {
    "colab": {
      "name": "document_summarization.ipynb",
      "provenance": []
    },
    "kernelspec": {
      "name": "python3",
      "display_name": "Python 3"
    },
    "language_info": {
      "name": "python"
    }
  },
  "cells": [
    {
      "cell_type": "code",
      "metadata": {
        "id": "cQBxydWyXJ-H"
      },
      "source": [
        "disciple_txt='Human beings are the larger parts of a social framework and for any framework to function, rules and regulations are an absolute necessity. When these regulations guide human behavior and devise a sense of organization, a system or an individual is said to be disciplined. Discipline finds its importance in every aspect of human as well as other forms of life. It instills a sense of responsibility, credibility and nurtures a person to be more accountable for their actions.From the daily routine of a sportsperson, the regular schedule of a businessperson to the first steps or achievements of children, discipline is present in all places. But it is equally important to understand that the same book of rules does not work for every person. Punishments may work brilliantly for one child in school but make another child feel miserable about themselves. So discipline anywhere should be compatible and considerate. Unlike the “terms and conditions” which suit their own needs, discipline should always be framed to meet individual requirements first.In our fast-paced lives, we often have to run so fast to be a part of the crowd, that we forget our own planned schedules. This leads to sleepless nights, anxiety, disorder and in extreme cases chaos and commotion. We indeed need to keep pushing ourselves to blend with the competition, but putting ourselves first is indispensable.While discipline does have several interpretations and perceptions, its ultimate purpose is to give us a clear idea of life. The history of great personalities is a witness to the power of discipline in driving accomplishments. Discipline doesn’t always have to be something dictating every minute of our life, it can be in the form of small steps which one fine day, bring home a bigger, better version of ourselves.'"
      ],
      "execution_count": null,
      "outputs": []
    },
    {
      "cell_type": "code",
      "metadata": {
        "id": "RYy4NCMBYUFs"
      },
      "source": [
        "#import libaries\n",
        "import spacy\n",
        "from spacy.lang.en.stop_words import STOP_WORDS\n",
        "from string import punctuation"
      ],
      "execution_count": null,
      "outputs": []
    },
    {
      "cell_type": "code",
      "metadata": {
        "colab": {
          "base_uri": "https://localhost:8080/"
        },
        "id": "Guh2EBSvZGH-",
        "outputId": "c63a9ba3-8670-43e6-c1f4-89368a18dbdb"
      },
      "source": [
        "#list the STOPWORDS\n",
        "#Stopwords are the most common words in any natural language. \n",
        "#For the purpose of analyzing text data and building NLP models, these stopwords might not add much value to the meaning of the document.\n",
        "stopwords=list(STOP_WORDS)\n",
        "stopwords"
      ],
      "execution_count": null,
      "outputs": [
        {
          "output_type": "execute_result",
          "data": {
            "text/plain": [
              "['meanwhile',\n",
              " 'often',\n",
              " 'be',\n",
              " 'below',\n",
              " 'though',\n",
              " 'how',\n",
              " 'after',\n",
              " 'something',\n",
              " 'thru',\n",
              " 'two',\n",
              " 'seeming',\n",
              " 'yet',\n",
              " 'therefore',\n",
              " 'many',\n",
              " 'less',\n",
              " 'give',\n",
              " '’m',\n",
              " 'therein',\n",
              " 'whereafter',\n",
              " 'it',\n",
              " 'whereas',\n",
              " 'thereafter',\n",
              " 'very',\n",
              " 'became',\n",
              " 'were',\n",
              " 'that',\n",
              " 'others',\n",
              " 'moreover',\n",
              " 'enough',\n",
              " 'some',\n",
              " 'herself',\n",
              " 'almost',\n",
              " 'go',\n",
              " 'indeed',\n",
              " 'was',\n",
              " 'on',\n",
              " 'across',\n",
              " '’s',\n",
              " 'whom',\n",
              " \"n't\",\n",
              " 'top',\n",
              " 'seemed',\n",
              " 'before',\n",
              " 'via',\n",
              " 'there',\n",
              " 'hundred',\n",
              " 'into',\n",
              " 'nothing',\n",
              " 'him',\n",
              " 'least',\n",
              " 'alone',\n",
              " 'always',\n",
              " 'again',\n",
              " 'perhaps',\n",
              " 'made',\n",
              " 'already',\n",
              " 'me',\n",
              " 'own',\n",
              " 'their',\n",
              " 'amount',\n",
              " 'whole',\n",
              " 'afterwards',\n",
              " 'ever',\n",
              " \"'d\",\n",
              " 'mostly',\n",
              " 'ten',\n",
              " 'we',\n",
              " 'latter',\n",
              " 'everything',\n",
              " 'do',\n",
              " 'six',\n",
              " 'done',\n",
              " 'they',\n",
              " 'even',\n",
              " 'eight',\n",
              " 'neither',\n",
              " 'but',\n",
              " 'around',\n",
              " 'ourselves',\n",
              " 'nine',\n",
              " 'hereby',\n",
              " 'as',\n",
              " 'take',\n",
              " 'more',\n",
              " 'somehow',\n",
              " 'twelve',\n",
              " 'once',\n",
              " '‘d',\n",
              " 'its',\n",
              " 'us',\n",
              " 'every',\n",
              " 'whither',\n",
              " 'than',\n",
              " 'keep',\n",
              " 'ours',\n",
              " 'thence',\n",
              " 'mine',\n",
              " '‘m',\n",
              " 'few',\n",
              " 'although',\n",
              " 'wherein',\n",
              " 'front',\n",
              " 'his',\n",
              " 'whereby',\n",
              " 'being',\n",
              " 'what',\n",
              " 'behind',\n",
              " 'for',\n",
              " 'nobody',\n",
              " 'up',\n",
              " 'an',\n",
              " 'get',\n",
              " 'hers',\n",
              " 'myself',\n",
              " 'well',\n",
              " 'who',\n",
              " 'four',\n",
              " 'off',\n",
              " 'else',\n",
              " 'fifteen',\n",
              " 'my',\n",
              " 'never',\n",
              " 'wherever',\n",
              " 'one',\n",
              " 'hereupon',\n",
              " 'through',\n",
              " 'from',\n",
              " 'beforehand',\n",
              " 'really',\n",
              " 'by',\n",
              " 'have',\n",
              " 'can',\n",
              " 'should',\n",
              " 'quite',\n",
              " \"'s\",\n",
              " 'whether',\n",
              " 'third',\n",
              " 'most',\n",
              " 'will',\n",
              " 'besides',\n",
              " 'he',\n",
              " 'towards',\n",
              " 'everywhere',\n",
              " 'among',\n",
              " 'did',\n",
              " 'i',\n",
              " 'your',\n",
              " 'fifty',\n",
              " 'hereafter',\n",
              " 're',\n",
              " 'to',\n",
              " 'might',\n",
              " 'another',\n",
              " 'not',\n",
              " 'down',\n",
              " 'anywhere',\n",
              " 'while',\n",
              " 'full',\n",
              " 'please',\n",
              " 'together',\n",
              " 'no',\n",
              " 'either',\n",
              " 'rather',\n",
              " 'elsewhere',\n",
              " 'anything',\n",
              " 'yourselves',\n",
              " 'them',\n",
              " 'under',\n",
              " \"'m\",\n",
              " 'our',\n",
              " 'sometimes',\n",
              " 'when',\n",
              " 'during',\n",
              " 'beyond',\n",
              " 'latterly',\n",
              " 'those',\n",
              " 'further',\n",
              " 'become',\n",
              " '’ll',\n",
              " 'using',\n",
              " 'per',\n",
              " 'anyone',\n",
              " 'seems',\n",
              " 'over',\n",
              " 'all',\n",
              " 'anyhow',\n",
              " 'above',\n",
              " 'been',\n",
              " 'back',\n",
              " 'these',\n",
              " 'then',\n",
              " 'whereupon',\n",
              " '‘s',\n",
              " 'put',\n",
              " 'hence',\n",
              " 'only',\n",
              " 'you',\n",
              " 'five',\n",
              " 'whose',\n",
              " 'sometime',\n",
              " 'unless',\n",
              " 'serious',\n",
              " 'everyone',\n",
              " 'call',\n",
              " 'make',\n",
              " 'other',\n",
              " 'whatever',\n",
              " 'onto',\n",
              " 'had',\n",
              " 'upon',\n",
              " 'in',\n",
              " 'former',\n",
              " 'a',\n",
              " 'becomes',\n",
              " 'of',\n",
              " 'nevertheless',\n",
              " 'say',\n",
              " 'must',\n",
              " 'and',\n",
              " 'n’t',\n",
              " 'becoming',\n",
              " 'doing',\n",
              " 'someone',\n",
              " 'anyway',\n",
              " \"'ll\",\n",
              " 'am',\n",
              " 'none',\n",
              " 'eleven',\n",
              " 'himself',\n",
              " 'about',\n",
              " 'along',\n",
              " 'seem',\n",
              " 'whoever',\n",
              " 'cannot',\n",
              " 'throughout',\n",
              " 'may',\n",
              " 'herein',\n",
              " 'so',\n",
              " 'move',\n",
              " 'somewhere',\n",
              " 'whenever',\n",
              " 'or',\n",
              " 'bottom',\n",
              " 'yourself',\n",
              " 'within',\n",
              " 'is',\n",
              " '’d',\n",
              " 'yours',\n",
              " 'whence',\n",
              " 'out',\n",
              " 'otherwise',\n",
              " 'because',\n",
              " 'with',\n",
              " 'still',\n",
              " 'thus',\n",
              " 'much',\n",
              " 'any',\n",
              " 'does',\n",
              " 'too',\n",
              " 'she',\n",
              " 'formerly',\n",
              " 'forty',\n",
              " 'itself',\n",
              " 'thereupon',\n",
              " 'see',\n",
              " 'if',\n",
              " 'part',\n",
              " 'next',\n",
              " 'three',\n",
              " 'noone',\n",
              " 'amongst',\n",
              " '‘re',\n",
              " 'beside',\n",
              " '‘ve',\n",
              " \"'ve\",\n",
              " 'ca',\n",
              " 'toward',\n",
              " 'both',\n",
              " 'regarding',\n",
              " 'empty',\n",
              " 'last',\n",
              " 'sixty',\n",
              " '‘ll',\n",
              " 'various',\n",
              " 'used',\n",
              " 'nowhere',\n",
              " 'due',\n",
              " 'also',\n",
              " 'nor',\n",
              " 'without',\n",
              " 'first',\n",
              " 'between',\n",
              " 'namely',\n",
              " 'name',\n",
              " 'twenty',\n",
              " '’re',\n",
              " 'until',\n",
              " 'has',\n",
              " 'show',\n",
              " 'here',\n",
              " 'thereby',\n",
              " 'n‘t',\n",
              " 'her',\n",
              " 'the',\n",
              " 'just',\n",
              " 'this',\n",
              " 'each',\n",
              " 'now',\n",
              " '’ve',\n",
              " 'where',\n",
              " 'such',\n",
              " 'since',\n",
              " 'at',\n",
              " 'why',\n",
              " 'would',\n",
              " 'side',\n",
              " 'against',\n",
              " 'except',\n",
              " \"'re\",\n",
              " 'same',\n",
              " 'themselves',\n",
              " 'are',\n",
              " 'however',\n",
              " 'several',\n",
              " 'could',\n",
              " 'which']"
            ]
          },
          "metadata": {
            "tags": []
          },
          "execution_count": 3
        }
      ]
    },
    {
      "cell_type": "code",
      "metadata": {
        "id": "fc5s6i1OZTPa"
      },
      "source": [
        "nlp=spacy.load('en_core_web_sm')"
      ],
      "execution_count": null,
      "outputs": []
    },
    {
      "cell_type": "code",
      "metadata": {
        "id": "1ByojPS2Zcpp"
      },
      "source": [
        "doc=nlp(disciple_txt)"
      ],
      "execution_count": null,
      "outputs": []
    },
    {
      "cell_type": "code",
      "metadata": {
        "colab": {
          "base_uri": "https://localhost:8080/"
        },
        "id": "bWghuYIhZnQH",
        "outputId": "793f147a-1456-4c5e-c39a-30ab54efd7bb"
      },
      "source": [
        "#identify the tokens in text\n",
        "# In NLP tokens are either word, characters or sub-words\n",
        "# First word tokenization\n",
        "tokens=[token.text for token in doc]\n",
        "print(tokens)"
      ],
      "execution_count": null,
      "outputs": [
        {
          "output_type": "stream",
          "text": [
            "['Human', 'beings', 'are', 'the', 'larger', 'parts', 'of', 'a', 'social', 'framework', 'and', 'for', 'any', 'framework', 'to', 'function', ',', 'rules', 'and', 'regulations', 'are', 'an', 'absolute', 'necessity', '.', 'When', 'these', 'regulations', 'guide', 'human', 'behavior', 'and', 'devise', 'a', 'sense', 'of', 'organization', ',', 'a', 'system', 'or', 'an', 'individual', 'is', 'said', 'to', 'be', 'disciplined', '.', 'Discipline', 'finds', 'its', 'importance', 'in', 'every', 'aspect', 'of', 'human', 'as', 'well', 'as', 'other', 'forms', 'of', 'life', '.', 'It', 'instills', 'a', 'sense', 'of', 'responsibility', ',', 'credibility', 'and', 'nurtures', 'a', 'person', 'to', 'be', 'more', 'accountable', 'for', 'their', 'actions', '.', 'From', 'the', 'daily', 'routine', 'of', 'a', 'sportsperson', ',', 'the', 'regular', 'schedule', 'of', 'a', 'businessperson', 'to', 'the', 'first', 'steps', 'or', 'achievements', 'of', 'children', ',', 'discipline', 'is', 'present', 'in', 'all', 'places', '.', 'But', 'it', 'is', 'equally', 'important', 'to', 'understand', 'that', 'the', 'same', 'book', 'of', 'rules', 'does', 'not', 'work', 'for', 'every', 'person', '.', 'Punishments', 'may', 'work', 'brilliantly', 'for', 'one', 'child', 'in', 'school', 'but', 'make', 'another', 'child', 'feel', 'miserable', 'about', 'themselves', '.', 'So', 'discipline', 'anywhere', 'should', 'be', 'compatible', 'and', 'considerate', '.', 'Unlike', 'the', '“', 'terms', 'and', 'conditions', '”', 'which', 'suit', 'their', 'own', 'needs', ',', 'discipline', 'should', 'always', 'be', 'framed', 'to', 'meet', 'individual', 'requirements', 'first', '.', 'In', 'our', 'fast', '-', 'paced', 'lives', ',', 'we', 'often', 'have', 'to', 'run', 'so', 'fast', 'to', 'be', 'a', 'part', 'of', 'the', 'crowd', ',', 'that', 'we', 'forget', 'our', 'own', 'planned', 'schedules', '.', 'This', 'leads', 'to', 'sleepless', 'nights', ',', 'anxiety', ',', 'disorder', 'and', 'in', 'extreme', 'cases', 'chaos', 'and', 'commotion', '.', 'We', 'indeed', 'need', 'to', 'keep', 'pushing', 'ourselves', 'to', 'blend', 'with', 'the', 'competition', ',', 'but', 'putting', 'ourselves', 'first', 'is', 'indispensable', '.', 'While', 'discipline', 'does', 'have', 'several', 'interpretations', 'and', 'perceptions', ',', 'its', 'ultimate', 'purpose', 'is', 'to', 'give', 'us', 'a', 'clear', 'idea', 'of', 'life', '.', 'The', 'history', 'of', 'great', 'personalities', 'is', 'a', 'witness', 'to', 'the', 'power', 'of', 'discipline', 'in', 'driving', 'accomplishments', '.', 'Discipline', 'does', 'n’t', 'always', 'have', 'to', 'be', 'something', 'dictating', 'every', 'minute', 'of', 'our', 'life', ',', 'it', 'can', 'be', 'in', 'the', 'form', 'of', 'small', 'steps', 'which', 'one', 'fine', 'day', ',', 'bring', 'home', 'a', 'bigger', ',', 'better', 'version', 'of', 'ourselves', '.']\n"
          ],
          "name": "stdout"
        }
      ]
    },
    {
      "cell_type": "code",
      "metadata": {
        "colab": {
          "base_uri": "https://localhost:8080/",
          "height": 36
        },
        "id": "bxnWz6ZMZr5i",
        "outputId": "e441608b-8851-4333-af45-cac43364fa3a"
      },
      "source": [
        "#add new line symbol to the punctuations\n",
        "punctuation=punctuation+'/n'\n",
        "punctuation"
      ],
      "execution_count": null,
      "outputs": [
        {
          "output_type": "execute_result",
          "data": {
            "application/vnd.google.colaboratory.intrinsic+json": {
              "type": "string"
            },
            "text/plain": [
              "'!\"#$%&\\'()*+,-./:;<=>?@[\\\\]^_`{|}~/n'"
            ]
          },
          "metadata": {
            "tags": []
          },
          "execution_count": 7
        }
      ]
    },
    {
      "cell_type": "code",
      "metadata": {
        "id": "tIuh7GKqZr2q"
      },
      "source": [
        "#count the frequencies of each word token \n",
        "word_frequencies={}\n",
        "for word in doc:\n",
        "  if word.text.lower() not in stopwords:\n",
        "    if word.text.lower() not in punctuation:\n",
        "      if word.text.lower() not in word_frequencies.keys():\n",
        "        word_frequencies[word.text]=1\n",
        "      else:\n",
        "        word_frequencies[word.text] += 1"
      ],
      "execution_count": null,
      "outputs": []
    },
    {
      "cell_type": "code",
      "metadata": {
        "colab": {
          "base_uri": "https://localhost:8080/"
        },
        "id": "uil0uVbjZrvf",
        "outputId": "9a2040e4-979c-4107-83f8-7193bb819d8d"
      },
      "source": [
        "print(word_frequencies)"
      ],
      "execution_count": null,
      "outputs": [
        {
          "output_type": "stream",
          "text": [
            "{'Human': 1, 'beings': 1, 'larger': 1, 'parts': 1, 'social': 1, 'framework': 2, 'function': 1, 'rules': 2, 'regulations': 2, 'absolute': 1, 'necessity': 1, 'guide': 1, 'human': 2, 'behavior': 1, 'devise': 1, 'sense': 2, 'organization': 1, 'system': 1, 'individual': 2, 'said': 1, 'disciplined': 1, 'Discipline': 2, 'finds': 1, 'importance': 1, 'aspect': 1, 'forms': 1, 'life': 3, 'instills': 1, 'responsibility': 1, 'credibility': 1, 'nurtures': 1, 'person': 2, 'accountable': 1, 'actions': 1, 'daily': 1, 'routine': 1, 'sportsperson': 1, 'regular': 1, 'schedule': 1, 'businessperson': 1, 'steps': 2, 'achievements': 1, 'children': 1, 'discipline': 5, 'present': 1, 'places': 1, 'equally': 1, 'important': 1, 'understand': 1, 'book': 1, 'work': 2, 'Punishments': 1, 'brilliantly': 1, 'child': 2, 'school': 1, 'feel': 1, 'miserable': 1, 'compatible': 1, 'considerate': 1, 'Unlike': 1, '“': 1, 'terms': 1, 'conditions': 1, '”': 1, 'suit': 1, 'needs': 1, 'framed': 1, 'meet': 1, 'requirements': 1, 'fast': 2, 'paced': 1, 'lives': 1, 'run': 1, 'crowd': 1, 'forget': 1, 'planned': 1, 'schedules': 1, 'leads': 1, 'sleepless': 1, 'nights': 1, 'anxiety': 1, 'disorder': 1, 'extreme': 1, 'cases': 1, 'chaos': 1, 'commotion': 1, 'need': 1, 'pushing': 1, 'blend': 1, 'competition': 1, 'putting': 1, 'indispensable': 1, 'interpretations': 1, 'perceptions': 1, 'ultimate': 1, 'purpose': 1, 'clear': 1, 'idea': 1, 'history': 1, 'great': 1, 'personalities': 1, 'witness': 1, 'power': 1, 'driving': 1, 'accomplishments': 1, 'dictating': 1, 'minute': 1, 'form': 1, 'small': 1, 'fine': 1, 'day': 1, 'bring': 1, 'home': 1, 'bigger': 1, 'better': 1, 'version': 1}\n"
          ],
          "name": "stdout"
        }
      ]
    },
    {
      "cell_type": "code",
      "metadata": {
        "colab": {
          "base_uri": "https://localhost:8080/"
        },
        "id": "dEzy-YS5b5up",
        "outputId": "0f63fdc0-3ddf-4a9d-bd03-a4d3b0a08665"
      },
      "source": [
        "# word with max_frequency\n",
        "max_frequency=max(word_frequencies.values())\n",
        "max_frequency"
      ],
      "execution_count": null,
      "outputs": [
        {
          "output_type": "execute_result",
          "data": {
            "text/plain": [
              "5"
            ]
          },
          "metadata": {
            "tags": []
          },
          "execution_count": 10
        }
      ]
    },
    {
      "cell_type": "code",
      "metadata": {
        "id": "mg7f-cfUfp6v"
      },
      "source": [
        "#let's look word with max frequency\n",
        "max_word_frequency=[]\n",
        "for word in word_frequencies.keys():\n",
        "  if word_frequencies[word]==5:\n",
        "    max_word_frequency.append(word)\n"
      ],
      "execution_count": null,
      "outputs": []
    },
    {
      "cell_type": "code",
      "metadata": {
        "colab": {
          "base_uri": "https://localhost:8080/"
        },
        "id": "bcxWx1TZgBcg",
        "outputId": "a4bef566-0fc9-4292-f909-6e08aea4e3c5"
      },
      "source": [
        "max_word_frequency"
      ],
      "execution_count": null,
      "outputs": [
        {
          "output_type": "execute_result",
          "data": {
            "text/plain": [
              "['discipline']"
            ]
          },
          "metadata": {
            "tags": []
          },
          "execution_count": 12
        }
      ]
    },
    {
      "cell_type": "code",
      "metadata": {
        "id": "u5x52gDje7HC"
      },
      "source": [
        "#normalize the frequency\n",
        "# divide with value of each token frequency with max_frequnecy \n",
        "for word in word_frequencies.keys():\n",
        "  word_frequencies[word]=word_frequencies[word]/max_frequency"
      ],
      "execution_count": null,
      "outputs": []
    },
    {
      "cell_type": "code",
      "metadata": {
        "colab": {
          "base_uri": "https://localhost:8080/"
        },
        "id": "JLNKWoXLflJ4",
        "outputId": "caad60f1-f2d3-4e6a-98bc-0fa4cafc85be"
      },
      "source": [
        "print (word_frequencies)"
      ],
      "execution_count": null,
      "outputs": [
        {
          "output_type": "stream",
          "text": [
            "{'Human': 0.2, 'beings': 0.2, 'larger': 0.2, 'parts': 0.2, 'social': 0.2, 'framework': 0.4, 'function': 0.2, 'rules': 0.4, 'regulations': 0.4, 'absolute': 0.2, 'necessity': 0.2, 'guide': 0.2, 'human': 0.4, 'behavior': 0.2, 'devise': 0.2, 'sense': 0.4, 'organization': 0.2, 'system': 0.2, 'individual': 0.4, 'said': 0.2, 'disciplined': 0.2, 'Discipline': 0.4, 'finds': 0.2, 'importance': 0.2, 'aspect': 0.2, 'forms': 0.2, 'life': 0.6, 'instills': 0.2, 'responsibility': 0.2, 'credibility': 0.2, 'nurtures': 0.2, 'person': 0.4, 'accountable': 0.2, 'actions': 0.2, 'daily': 0.2, 'routine': 0.2, 'sportsperson': 0.2, 'regular': 0.2, 'schedule': 0.2, 'businessperson': 0.2, 'steps': 0.4, 'achievements': 0.2, 'children': 0.2, 'discipline': 1.0, 'present': 0.2, 'places': 0.2, 'equally': 0.2, 'important': 0.2, 'understand': 0.2, 'book': 0.2, 'work': 0.4, 'Punishments': 0.2, 'brilliantly': 0.2, 'child': 0.4, 'school': 0.2, 'feel': 0.2, 'miserable': 0.2, 'compatible': 0.2, 'considerate': 0.2, 'Unlike': 0.2, '“': 0.2, 'terms': 0.2, 'conditions': 0.2, '”': 0.2, 'suit': 0.2, 'needs': 0.2, 'framed': 0.2, 'meet': 0.2, 'requirements': 0.2, 'fast': 0.4, 'paced': 0.2, 'lives': 0.2, 'run': 0.2, 'crowd': 0.2, 'forget': 0.2, 'planned': 0.2, 'schedules': 0.2, 'leads': 0.2, 'sleepless': 0.2, 'nights': 0.2, 'anxiety': 0.2, 'disorder': 0.2, 'extreme': 0.2, 'cases': 0.2, 'chaos': 0.2, 'commotion': 0.2, 'need': 0.2, 'pushing': 0.2, 'blend': 0.2, 'competition': 0.2, 'putting': 0.2, 'indispensable': 0.2, 'interpretations': 0.2, 'perceptions': 0.2, 'ultimate': 0.2, 'purpose': 0.2, 'clear': 0.2, 'idea': 0.2, 'history': 0.2, 'great': 0.2, 'personalities': 0.2, 'witness': 0.2, 'power': 0.2, 'driving': 0.2, 'accomplishments': 0.2, 'dictating': 0.2, 'minute': 0.2, 'form': 0.2, 'small': 0.2, 'fine': 0.2, 'day': 0.2, 'bring': 0.2, 'home': 0.2, 'bigger': 0.2, 'better': 0.2, 'version': 0.2}\n"
          ],
          "name": "stdout"
        }
      ]
    },
    {
      "cell_type": "code",
      "metadata": {
        "colab": {
          "base_uri": "https://localhost:8080/"
        },
        "id": "ahF4YzJxuGiA",
        "outputId": "2af1a441-cceb-4409-afac-5c33d8f79c72"
      },
      "source": [
        "#sentence_tokenization\n",
        "sentence_tokens=[sent for sent in doc.sents]\n",
        "print(sentence_tokens)"
      ],
      "execution_count": null,
      "outputs": [
        {
          "output_type": "stream",
          "text": [
            "[Human beings are the larger parts of a social framework and for any framework to function, rules and regulations are an absolute necessity., When these regulations guide human behavior and devise a sense of organization, a system or an individual is said to be disciplined., Discipline finds its importance in every aspect of human as well as other forms of life., It instills a sense of responsibility, credibility and nurtures a person to be more accountable for their actions., From the daily routine of a sportsperson, the regular schedule of a businessperson to the first steps or achievements of children, discipline is present in all places., But it is equally important to understand that the same book of rules does not work for every person., Punishments may work brilliantly for one child in school but make another child feel miserable about themselves., So discipline anywhere should be compatible and considerate., Unlike the “terms and conditions” which suit their own needs, discipline should always be framed to meet individual requirements first., In our fast-paced lives, we often have to run so fast to be a part of the crowd, that we forget our own planned schedules., This leads to sleepless nights, anxiety, disorder and in extreme cases chaos and commotion., We indeed need to keep pushing ourselves to blend with the competition, but putting ourselves first is indispensable., While discipline does have several interpretations and perceptions, its ultimate purpose is to give us a clear idea of life., The history of great personalities is a witness to the power of discipline in driving accomplishments., Discipline doesn’t always have to be something dictating every minute of our life, it can be in the form of small steps which one fine day, bring home a bigger, better version of ourselves.]\n"
          ],
          "name": "stdout"
        }
      ]
    },
    {
      "cell_type": "code",
      "metadata": {
        "id": "b_wrTaEfubqG"
      },
      "source": [
        "#calculate sentence score\n",
        "# sentence score is the total of each word token frequency in each sentence\n",
        "sentence_scores={}\n",
        "\n",
        "for sent in sentence_tokens:\n",
        "  for word in sent:\n",
        "    if word.text.lower() in word_frequencies.keys():\n",
        "      if sent not in sentence_scores.keys():\n",
        "        sentence_scores[sent]=word_frequencies[word.text.lower()]\n",
        "      else:\n",
        "         sentence_scores[sent]+=word_frequencies[word.text.lower()]"
      ],
      "execution_count": null,
      "outputs": []
    },
    {
      "cell_type": "code",
      "metadata": {
        "colab": {
          "base_uri": "https://localhost:8080/"
        },
        "id": "g1zDxV6gwbU6",
        "outputId": "25e46449-87a8-4e81-f160-0fecbeb4ad69"
      },
      "source": [
        "sentence_scores"
      ],
      "execution_count": null,
      "outputs": [
        {
          "output_type": "execute_result",
          "data": {
            "text/plain": [
              "{Human beings are the larger parts of a social framework and for any framework to function, rules and regulations are an absolute necessity.: 3.4000000000000004,\n",
              " When these regulations guide human behavior and devise a sense of organization, a system or an individual is said to be disciplined.: 3.0,\n",
              " Discipline finds its importance in every aspect of human as well as other forms of life.: 2.8000000000000003,\n",
              " It instills a sense of responsibility, credibility and nurtures a person to be more accountable for their actions.: 2.0,\n",
              " From the daily routine of a sportsperson, the regular schedule of a businessperson to the first steps or achievements of children, discipline is present in all places.: 3.4000000000000004,\n",
              " But it is equally important to understand that the same book of rules does not work for every person.: 2.0,\n",
              " Punishments may work brilliantly for one child in school but make another child feel miserable about themselves.: 2.0,\n",
              " So discipline anywhere should be compatible and considerate.: 1.4,\n",
              " Unlike the “terms and conditions” which suit their own needs, discipline should always be framed to meet individual requirements first.: 3.2000000000000006,\n",
              " In our fast-paced lives, we often have to run so fast to be a part of the crowd, that we forget our own planned schedules.: 2.1999999999999997,\n",
              " This leads to sleepless nights, anxiety, disorder and in extreme cases chaos and commotion.: 1.7999999999999998,\n",
              " We indeed need to keep pushing ourselves to blend with the competition, but putting ourselves first is indispensable.: 1.2,\n",
              " While discipline does have several interpretations and perceptions, its ultimate purpose is to give us a clear idea of life.: 2.8,\n",
              " The history of great personalities is a witness to the power of discipline in driving accomplishments.: 2.4000000000000004,\n",
              " Discipline doesn’t always have to be something dictating every minute of our life, it can be in the form of small steps which one fine day, bring home a bigger, better version of ourselves.: 4.200000000000001}"
            ]
          },
          "metadata": {
            "tags": []
          },
          "execution_count": 18
        }
      ]
    },
    {
      "cell_type": "code",
      "metadata": {
        "colab": {
          "base_uri": "https://localhost:8080/"
        },
        "id": "DOP_P3ifwmn3",
        "outputId": "d4146282-b1eb-40d0-aecc-a27fc7b8574a"
      },
      "source": [
        "#lets find 40% summarization\n",
        "from heapq import nlargest\n",
        "select_length=int(len(sentence_tokens)*0.4)\n",
        "select_length"
      ],
      "execution_count": null,
      "outputs": [
        {
          "output_type": "execute_result",
          "data": {
            "text/plain": [
              "6"
            ]
          },
          "metadata": {
            "tags": []
          },
          "execution_count": 35
        }
      ]
    },
    {
      "cell_type": "code",
      "metadata": {
        "id": "tsq_rMMFw8Y0"
      },
      "source": [
        "summary=nlargest(select_length, sentence_scores,key=sentence_scores.get)"
      ],
      "execution_count": null,
      "outputs": []
    },
    {
      "cell_type": "code",
      "metadata": {
        "colab": {
          "base_uri": "https://localhost:8080/"
        },
        "id": "oRl68N5fxRUv",
        "outputId": "37b41d72-07ad-4f20-e121-c85cee960071"
      },
      "source": [
        "summary"
      ],
      "execution_count": null,
      "outputs": [
        {
          "output_type": "execute_result",
          "data": {
            "text/plain": [
              "[Discipline doesn’t always have to be something dictating every minute of our life, it can be in the form of small steps which one fine day, bring home a bigger, better version of ourselves.,\n",
              " Human beings are the larger parts of a social framework and for any framework to function, rules and regulations are an absolute necessity.,\n",
              " From the daily routine of a sportsperson, the regular schedule of a businessperson to the first steps or achievements of children, discipline is present in all places.,\n",
              " Unlike the “terms and conditions” which suit their own needs, discipline should always be framed to meet individual requirements first.,\n",
              " When these regulations guide human behavior and devise a sense of organization, a system or an individual is said to be disciplined.,\n",
              " Discipline finds its importance in every aspect of human as well as other forms of life.]"
            ]
          },
          "metadata": {
            "tags": []
          },
          "execution_count": 37
        }
      ]
    },
    {
      "cell_type": "code",
      "metadata": {
        "id": "JqIC0UInxdii"
      },
      "source": [
        "final_summary=[word.text for word in summary]"
      ],
      "execution_count": null,
      "outputs": []
    },
    {
      "cell_type": "code",
      "metadata": {
        "colab": {
          "base_uri": "https://localhost:8080/"
        },
        "id": "WHPQH4SAx2QN",
        "outputId": "c79c1223-4a41-4ebf-8c45-69ce54e44f0c"
      },
      "source": [
        "final_summary"
      ],
      "execution_count": null,
      "outputs": [
        {
          "output_type": "execute_result",
          "data": {
            "text/plain": [
              "['Discipline doesn’t always have to be something dictating every minute of our life, it can be in the form of small steps which one fine day, bring home a bigger, better version of ourselves.',\n",
              " 'Human beings are the larger parts of a social framework and for any framework to function, rules and regulations are an absolute necessity.',\n",
              " 'From the daily routine of a sportsperson, the regular schedule of a businessperson to the first steps or achievements of children, discipline is present in all places.',\n",
              " 'Unlike the “terms and conditions” which suit their own needs, discipline should always be framed to meet individual requirements first.',\n",
              " 'When these regulations guide human behavior and devise a sense of organization, a system or an individual is said to be disciplined.',\n",
              " 'Discipline finds its importance in every aspect of human as well as other forms of life.']"
            ]
          },
          "metadata": {
            "tags": []
          },
          "execution_count": 40
        }
      ]
    },
    {
      "cell_type": "code",
      "metadata": {
        "id": "TT_AXUJ5x7IO"
      },
      "source": [
        "summary=''.join(final_summary)"
      ],
      "execution_count": null,
      "outputs": []
    },
    {
      "cell_type": "code",
      "metadata": {
        "colab": {
          "base_uri": "https://localhost:8080/"
        },
        "id": "unNiGDNxyEVV",
        "outputId": "00629155-ac66-4b4e-f61e-235aea883eaa"
      },
      "source": [
        "print (summary)"
      ],
      "execution_count": null,
      "outputs": [
        {
          "output_type": "stream",
          "text": [
            "Discipline doesn’t always have to be something dictating every minute of our life, it can be in the form of small steps which one fine day, bring home a bigger, better version of ourselves.Human beings are the larger parts of a social framework and for any framework to function, rules and regulations are an absolute necessity.From the daily routine of a sportsperson, the regular schedule of a businessperson to the first steps or achievements of children, discipline is present in all places.Unlike the “terms and conditions” which suit their own needs, discipline should always be framed to meet individual requirements first.When these regulations guide human behavior and devise a sense of organization, a system or an individual is said to be disciplined.Discipline finds its importance in every aspect of human as well as other forms of life.\n"
          ],
          "name": "stdout"
        }
      ]
    },
    {
      "cell_type": "code",
      "metadata": {
        "colab": {
          "base_uri": "https://localhost:8080/"
        },
        "id": "InCo11vMyLY0",
        "outputId": "5a77e17a-0d0e-42ef-fdaf-37a141e27667"
      },
      "source": [
        "len(disciple_txt)"
      ],
      "execution_count": null,
      "outputs": [
        {
          "output_type": "execute_result",
          "data": {
            "text/plain": [
              "1804"
            ]
          },
          "metadata": {
            "tags": []
          },
          "execution_count": 43
        }
      ]
    },
    {
      "cell_type": "code",
      "metadata": {
        "colab": {
          "base_uri": "https://localhost:8080/"
        },
        "id": "SdiSi2kVyNw8",
        "outputId": "f31f967a-6391-428d-e325-4d1906af388e"
      },
      "source": [
        "len(summary)"
      ],
      "execution_count": null,
      "outputs": [
        {
          "output_type": "execute_result",
          "data": {
            "text/plain": [
              "850"
            ]
          },
          "metadata": {
            "tags": []
          },
          "execution_count": 44
        }
      ]
    }
  ]
}